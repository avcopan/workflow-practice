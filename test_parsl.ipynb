{
 "cells": [
  {
   "cell_type": "code",
   "execution_count": 1,
   "metadata": {},
   "outputs": [
    {
     "name": "stderr",
     "output_type": "stream",
     "text": [
      "/home/copan/code/workflow-practice/.pixi/envs/default/lib/python3.11/site-packages/paramiko/pkey.py:100: CryptographyDeprecationWarning: TripleDES has been moved to cryptography.hazmat.decrepit.ciphers.algorithms.TripleDES and will be removed from this module in 48.0.0.\n",
      "  \"cipher\": algorithms.TripleDES,\n",
      "/home/copan/code/workflow-practice/.pixi/envs/default/lib/python3.11/site-packages/paramiko/transport.py:259: CryptographyDeprecationWarning: TripleDES has been moved to cryptography.hazmat.decrepit.ciphers.algorithms.TripleDES and will be removed from this module in 48.0.0.\n",
      "  \"class\": algorithms.TripleDES,\n"
     ]
    }
   ],
   "source": [
    "import parsl\n",
    "from parsl.app.app import python_app, bash_app\n",
    "from parsl.configs.local_threads import config"
   ]
  },
  {
   "cell_type": "code",
   "execution_count": 2,
   "metadata": {},
   "outputs": [
    {
     "data": {
      "text/plain": [
       "<parsl.dataflow.dflow.DataFlowKernel at 0x1504742538d0>"
      ]
     },
     "execution_count": 2,
     "metadata": {},
     "output_type": "execute_result"
    }
   ],
   "source": [
    "parsl.load(config)"
   ]
  },
  {
   "cell_type": "code",
   "execution_count": 3,
   "metadata": {},
   "outputs": [
    {
     "name": "stdout",
     "output_type": "stream",
     "text": [
      "Hello world!\n"
     ]
    }
   ],
   "source": [
    "@python_app\n",
    "def hello():\n",
    "    return \"Hello world!\"\n",
    "\n",
    "\n",
    "print(hello().result())"
   ]
  },
  {
   "cell_type": "code",
   "execution_count": 6,
   "metadata": {},
   "outputs": [
    {
     "name": "stdout",
     "output_type": "stream",
     "text": [
      "Done: False\n",
      "Result: Hello world!\n",
      "Done: True\n"
     ]
    }
   ],
   "source": [
    "import parsl.dataflow\n",
    "import parsl.dataflow.futures\n",
    "\n",
    "\n",
    "@python_app\n",
    "def slow_hello():\n",
    "    import time\n",
    "    time.sleep(5)\n",
    "    return \"Hello world!\"\n",
    "\n",
    "app_future: parsl.dataflow.futures.AppFuture = slow_hello()\n",
    "\n",
    "print(f\"Done: {app_future.done()}\")\n",
    "print(f\"Result: {app_future.result()}\")\n",
    "print(f\"Done: {app_future.done()}\")"
   ]
  },
  {
   "cell_type": "code",
   "execution_count": 7,
   "metadata": {},
   "outputs": [
    {
     "name": "stdout",
     "output_type": "stream",
     "text": [
      "[2, 9, 3, 9, 8, 9]\n"
     ]
    }
   ],
   "source": [
    "# Locally, takes (total time) // 2 because only 2 cores are available\n",
    "@python_app\n",
    "def generate(start, stop):\n",
    "    from random import randint\n",
    "    import time\n",
    "    time.sleep(5)\n",
    "    return randint(start, stop)\n",
    "\n",
    "\n",
    "futures: list[parsl.dataflow.futures.AppFuture] = [generate(1, 10) for _ in range(6)]\n",
    "results = [i.result() for i in futures]\n",
    "print(results)"
   ]
  },
  {
   "cell_type": "code",
   "execution_count": null,
   "metadata": {},
   "outputs": [],
   "source": []
  }
 ],
 "metadata": {
  "kernelspec": {
   "display_name": "Python 3",
   "language": "python",
   "name": "python3"
  },
  "language_info": {
   "codemirror_mode": {
    "name": "ipython",
    "version": 3
   },
   "file_extension": ".py",
   "mimetype": "text/x-python",
   "name": "python",
   "nbconvert_exporter": "python",
   "pygments_lexer": "ipython3",
   "version": "3.12.4"
  }
 },
 "nbformat": 4,
 "nbformat_minor": 2
}
