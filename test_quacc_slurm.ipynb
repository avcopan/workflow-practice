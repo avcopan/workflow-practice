{
 "cells": [
  {
   "cell_type": "code",
   "execution_count": 1,
   "metadata": {},
   "outputs": [
    {
     "name": "stderr",
     "output_type": "stream",
     "text": [
      "/home/avcopan/code/workflow-practice/.pixi/envs/default/lib/python3.11/site-packages/paramiko/pkey.py:100: CryptographyDeprecationWarning: TripleDES has been moved to cryptography.hazmat.decrepit.ciphers.algorithms.TripleDES and will be removed from this module in 48.0.0.\n",
      "  \"cipher\": algorithms.TripleDES,\n",
      "/home/avcopan/code/workflow-practice/.pixi/envs/default/lib/python3.11/site-packages/paramiko/transport.py:259: CryptographyDeprecationWarning: TripleDES has been moved to cryptography.hazmat.decrepit.ciphers.algorithms.TripleDES and will be removed from this module in 48.0.0.\n",
      "  \"class\": algorithms.TripleDES,\n",
      "/home/avcopan/code/workflow-practice/.pixi/envs/default/lib/python3.11/site-packages/paramiko/pkey.py:100: CryptographyDeprecationWarning: TripleDES has been moved to cryptography.hazmat.decrepit.ciphers.algorithms.TripleDES and will be removed from this module in 48.0.0.\n",
      "  \"cipher\": algorithms.TripleDES,\n",
      "/home/avcopan/code/workflow-practice/.pixi/envs/default/lib/python3.11/site-packages/paramiko/transport.py:259: CryptographyDeprecationWarning: TripleDES has been moved to cryptography.hazmat.decrepit.ciphers.algorithms.TripleDES and will be removed from this module in 48.0.0.\n",
      "  \"class\": algorithms.TripleDES,\n"
     ]
    },
    {
     "data": {
      "text/plain": [
       "<parsl.dataflow.dflow.DataFlowKernel at 0x1500a5ae6110>"
      ]
     },
     "execution_count": 1,
     "metadata": {},
     "output_type": "execute_result"
    }
   ],
   "source": [
    "import parsl\n",
    "from parsl.config import Config\n",
    "from parsl.executors import HighThroughputExecutor\n",
    "from parsl.launchers import SrunLauncher\n",
    "from parsl.providers import SlurmProvider\n",
    "from parsl.dataflow.futures import AppFuture as Future\n",
    "\n",
    "# Notes:\n",
    "# - Need: `ntasks=<number>`; Has: `ntasks-per-node=<number>`\n",
    "# - Remove: `exclusive`\n",
    "\n",
    "account = \"brlab\"\n",
    "\n",
    "config = Config(\n",
    "    executors=[\n",
    "        HighThroughputExecutor(\n",
    "            label=\"quacc_parsl\",\n",
    "            provider=SlurmProvider(\n",
    "                account=account,\n",
    "                partition=\"batch\",\n",
    "                worker_init=f'eval \"$(pixi shell-hook --manifest-path=/home/avcopan/code/workflow-practice/pixi.toml)\"',\n",
    "                walltime=\"00:30:00\",\n",
    "                scheduler_options='#SBATCH --ntasks=1',\n",
    "                mem_per_node=4,\n",
    "                launcher=SrunLauncher(),\n",
    "                exclusive=False,\n",
    "            ),\n",
    "        )\n",
    "    ],\n",
    ")\n",
    "\n",
    "parsl.load(config)"
   ]
  },
  {
   "cell_type": "code",
   "execution_count": 2,
   "metadata": {},
   "outputs": [],
   "source": [
    "import quacc\n",
    "\n",
    "\n",
    "@quacc.job\n",
    "def slow_job(arg):\n",
    "    import subprocess\n",
    "    subprocess.run([\"sleep\", \"5\"])\n",
    "    return arg + 1\n",
    "\n",
    "\n",
    "@quacc.flow\n",
    "def workflow(arg):\n",
    "    return [slow_job(arg) for _ in range(4)]"
   ]
  },
  {
   "cell_type": "code",
   "execution_count": 3,
   "metadata": {},
   "outputs": [
    {
     "name": "stdout",
     "output_type": "stream",
     "text": [
      "[10, 10, 10, 10]\n"
     ]
    }
   ],
   "source": [
    "futures: list[Future] = workflow(9)\n",
    "results = [f.result() for f in futures]\n",
    "print(results)  # 9"
   ]
  },
  {
   "cell_type": "code",
   "execution_count": 4,
   "metadata": {},
   "outputs": [
    {
     "name": "stdout",
     "output_type": "stream",
     "text": [
      "[12, 12, 12, 12]\n"
     ]
    }
   ],
   "source": [
    "futures: list[Future] = workflow(11)\n",
    "results = [f.result() for f in futures]\n",
    "print(results)  # 9"
   ]
  },
  {
   "cell_type": "code",
   "execution_count": 5,
   "metadata": {},
   "outputs": [
    {
     "name": "stdout",
     "output_type": "stream",
     "text": [
      "[19, 19, 19, 19]\n"
     ]
    }
   ],
   "source": [
    "futures: list[Future] = workflow(18)\n",
    "results = [f.result() for f in futures]\n",
    "print(results)  # 9"
   ]
  },
  {
   "cell_type": "code",
   "execution_count": null,
   "metadata": {},
   "outputs": [],
   "source": []
  }
 ],
 "metadata": {
  "kernelspec": {
   "display_name": "Python 3",
   "language": "python",
   "name": "python3"
  },
  "language_info": {
   "codemirror_mode": {
    "name": "ipython",
    "version": 3
   },
   "file_extension": ".py",
   "mimetype": "text/x-python",
   "name": "python",
   "nbconvert_exporter": "python",
   "pygments_lexer": "ipython3",
   "version": "3.11.9"
  }
 },
 "nbformat": 4,
 "nbformat_minor": 2
}
