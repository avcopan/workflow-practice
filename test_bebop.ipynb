{
 "cells": [
  {
   "cell_type": "code",
   "execution_count": 1,
   "metadata": {},
   "outputs": [
    {
     "name": "stderr",
     "output_type": "stream",
     "text": [
      "/home/copan/code/workflow-practice/.pixi/envs/default/lib/python3.11/site-packages/paramiko/pkey.py:100: CryptographyDeprecationWarning: TripleDES has been moved to cryptography.hazmat.decrepit.ciphers.algorithms.TripleDES and will be removed from this module in 48.0.0.\n",
      "  \"cipher\": algorithms.TripleDES,\n",
      "/home/copan/code/workflow-practice/.pixi/envs/default/lib/python3.11/site-packages/paramiko/transport.py:259: CryptographyDeprecationWarning: TripleDES has been moved to cryptography.hazmat.decrepit.ciphers.algorithms.TripleDES and will be removed from this module in 48.0.0.\n",
      "  \"class\": algorithms.TripleDES,\n"
     ]
    },
    {
     "data": {
      "text/plain": [
       "<parsl.dataflow.dflow.DataFlowKernel at 0x154a39eefed0>"
      ]
     },
     "execution_count": 1,
     "metadata": {},
     "output_type": "execute_result"
    }
   ],
   "source": [
    "import parsl\n",
    "from parsl.app import app\n",
    "from parsl.dataflow.futures import AppFuture\n",
    "from parsl.configs.local_threads import config\n",
    "\n",
    "parsl.load(config)"
   ]
  },
  {
   "cell_type": "code",
   "execution_count": 3,
   "metadata": {},
   "outputs": [
    {
     "name": "stdout",
     "output_type": "stream",
     "text": [
      "False\n",
      "60\n",
      "True\n"
     ]
    }
   ],
   "source": [
    "@app.python_app\n",
    "def slow_job1(arg):\n",
    "    import subprocess\n",
    "    subprocess.run([\"sleep\", \"5\"])\n",
    "    return arg\n",
    "\n",
    "@app.python_app\n",
    "def slow_job2(arg):\n",
    "    import subprocess\n",
    "    subprocess.run([\"sleep\", \"5\"])\n",
    "    return arg + 1\n",
    "\n",
    "@app.python_app\n",
    "def slow_job3(args):\n",
    "    print(args)\n",
    "    import subprocess\n",
    "    subprocess.run([\"sleep\", \"5\"])\n",
    "    return sum(args)\n",
    "\n",
    "# fut1 = slow_job1(9)\n",
    "f1: AppFuture = slow_job1(9)\n",
    "f2s: list[AppFuture] = [slow_job2(f1) for _ in range(6)]\n",
    "results = [f.result() for f in f2s]\n",
    "f3 = slow_job3(results)\n",
    "\n",
    "print(f3.done())\n",
    "print(f3.result())\n",
    "print(f3.done())"
   ]
  },
  {
   "cell_type": "code",
   "execution_count": null,
   "metadata": {},
   "outputs": [],
   "source": []
  }
 ],
 "metadata": {
  "kernelspec": {
   "display_name": "default",
   "language": "python",
   "name": "python3"
  },
  "language_info": {
   "codemirror_mode": {
    "name": "ipython",
    "version": 3
   },
   "file_extension": ".py",
   "mimetype": "text/x-python",
   "name": "python",
   "nbconvert_exporter": "python",
   "pygments_lexer": "ipython3",
   "version": "3.12.4"
  }
 },
 "nbformat": 4,
 "nbformat_minor": 2
}
